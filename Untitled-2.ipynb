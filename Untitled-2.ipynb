{
 "cells": [
  {
   "cell_type": "code",
   "execution_count": 1,
   "metadata": {},
   "outputs": [
    {
     "name": "stdout",
     "output_type": "stream",
     "text": [
      "Requirement already satisfied: pandas in ./.venv/lib/python3.12/site-packages (2.2.2)\n",
      "Requirement already satisfied: numpy in ./.venv/lib/python3.12/site-packages (2.0.1)\n",
      "Requirement already satisfied: flask in ./.venv/lib/python3.12/site-packages (3.0.3)\n",
      "Requirement already satisfied: flask_sqlalchemy in ./.venv/lib/python3.12/site-packages (3.1.1)\n",
      "Requirement already satisfied: flask_login in ./.venv/lib/python3.12/site-packages (0.6.3)\n",
      "Requirement already satisfied: flask_wtf in ./.venv/lib/python3.12/site-packages (1.2.1)\n",
      "Requirement already satisfied: joblib in ./.venv/lib/python3.12/site-packages (1.4.2)\n",
      "Requirement already satisfied: flask_mail in ./.venv/lib/python3.12/site-packages (0.10.0)\n",
      "Requirement already satisfied: scikit-learn in ./.venv/lib/python3.12/site-packages (1.5.1)\n",
      "Requirement already satisfied: sqlalchemy in ./.venv/lib/python3.12/site-packages (2.0.32)\n",
      "Requirement already satisfied: wtforms in ./.venv/lib/python3.12/site-packages (3.1.2)\n",
      "Requirement already satisfied: python-dateutil>=2.8.2 in ./.venv/lib/python3.12/site-packages (from pandas) (2.9.0.post0)\n",
      "Requirement already satisfied: pytz>=2020.1 in ./.venv/lib/python3.12/site-packages (from pandas) (2024.1)\n",
      "Requirement already satisfied: tzdata>=2022.7 in ./.venv/lib/python3.12/site-packages (from pandas) (2024.1)\n",
      "Requirement already satisfied: Werkzeug>=3.0.0 in ./.venv/lib/python3.12/site-packages (from flask) (3.0.3)\n",
      "Requirement already satisfied: Jinja2>=3.1.2 in ./.venv/lib/python3.12/site-packages (from flask) (3.1.4)\n",
      "Collecting itsdangerous>=2.1.2 (from flask)\n",
      "  Using cached itsdangerous-2.2.0-py3-none-any.whl.metadata (1.9 kB)\n",
      "Requirement already satisfied: click>=8.1.3 in ./.venv/lib/python3.12/site-packages (from flask) (8.1.7)\n",
      "Requirement already satisfied: blinker>=1.6.2 in ./.venv/lib/python3.12/site-packages (from flask) (1.8.2)\n",
      "Requirement already satisfied: scipy>=1.6.0 in ./.venv/lib/python3.12/site-packages (from scikit-learn) (1.14.0)\n",
      "Requirement already satisfied: threadpoolctl>=3.1.0 in ./.venv/lib/python3.12/site-packages (from scikit-learn) (3.5.0)\n",
      "Requirement already satisfied: typing-extensions>=4.6.0 in ./.venv/lib/python3.12/site-packages (from sqlalchemy) (4.12.2)\n",
      "Requirement already satisfied: greenlet!=0.4.17 in ./.venv/lib/python3.12/site-packages (from sqlalchemy) (3.0.3)\n",
      "Requirement already satisfied: markupsafe in ./.venv/lib/python3.12/site-packages (from wtforms) (2.1.5)\n",
      "Requirement already satisfied: six>=1.5 in ./.venv/lib/python3.12/site-packages (from python-dateutil>=2.8.2->pandas) (1.16.0)\n",
      "Using cached itsdangerous-2.2.0-py3-none-any.whl (16 kB)\n",
      "Installing collected packages: itsdangerous\n",
      "  Attempting uninstall: itsdangerous\n",
      "    Found existing installation: itsdangerous 2.0.1\n",
      "    Uninstalling itsdangerous-2.0.1:\n",
      "      Successfully uninstalled itsdangerous-2.0.1\n",
      "Successfully installed itsdangerous-2.2.0\n",
      "Note: you may need to restart the kernel to use updated packages.\n"
     ]
    }
   ],
   "source": [
    "pip install pandas numpy flask flask_sqlalchemy flask_login flask_wtf joblib flask_mail scikit-learn sqlalchemy wtforms"
   ]
  },
  {
   "cell_type": "code",
   "execution_count": 2,
   "metadata": {},
   "outputs": [
    {
     "name": "stdout",
     "output_type": "stream",
     "text": [
      "\u001b[31mERROR: Could not find a version that satisfies the requirement flask-upgrade (from versions: none)\u001b[0m\u001b[31m\n",
      "\u001b[0m\u001b[31mERROR: No matching distribution found for flask-upgrade\u001b[0m\u001b[31m\n",
      "\u001b[0mNote: you may need to restart the kernel to use updated packages.\n"
     ]
    }
   ],
   "source": [
    "pip install flask-upgrade"
   ]
  },
  {
   "cell_type": "code",
   "execution_count": 3,
   "metadata": {},
   "outputs": [
    {
     "name": "stdout",
     "output_type": "stream",
     "text": [
      "Collecting itsdangerous==2.0.1\n",
      "  Using cached itsdangerous-2.0.1-py3-none-any.whl.metadata (2.9 kB)\n",
      "Using cached itsdangerous-2.0.1-py3-none-any.whl (18 kB)\n",
      "Installing collected packages: itsdangerous\n",
      "  Attempting uninstall: itsdangerous\n",
      "    Found existing installation: itsdangerous 2.2.0\n",
      "    Uninstalling itsdangerous-2.2.0:\n",
      "      Successfully uninstalled itsdangerous-2.2.0\n",
      "\u001b[31mERROR: pip's dependency resolver does not currently take into account all the packages that are installed. This behaviour is the source of the following dependency conflicts.\n",
      "flask 3.0.3 requires itsdangerous>=2.1.2, but you have itsdangerous 2.0.1 which is incompatible.\u001b[0m\u001b[31m\n",
      "\u001b[0mSuccessfully installed itsdangerous-2.0.1\n",
      "Note: you may need to restart the kernel to use updated packages.\n"
     ]
    }
   ],
   "source": [
    "pip install itsdangerous==2.0.1"
   ]
  },
  {
   "cell_type": "code",
   "execution_count": 4,
   "metadata": {},
   "outputs": [
    {
     "name": "stdout",
     "output_type": "stream",
     "text": [
      "Requirement already satisfied: email_validator in ./.venv/lib/python3.12/site-packages (2.2.0)\n",
      "Requirement already satisfied: dnspython>=2.0.0 in ./.venv/lib/python3.12/site-packages (from email_validator) (2.6.1)\n",
      "Requirement already satisfied: idna>=2.0.0 in ./.venv/lib/python3.12/site-packages (from email_validator) (3.7)\n",
      "Note: you may need to restart the kernel to use updated packages.\n"
     ]
    }
   ],
   "source": [
    "pip install email_validator"
   ]
  },
  {
   "cell_type": "code",
   "execution_count": 5,
   "metadata": {},
   "outputs": [],
   "source": [
    "import pandas as pd\n",
    "import numpy as np\n",
    "from sklearn.feature_extraction.text import TfidfVectorizer\n",
    "from sklearn.ensemble import GradientBoostingClassifier, RandomForestClassifier\n",
    "from sklearn.model_selection import train_test_split, GridSearchCV, cross_val_score\n",
    "from sklearn.metrics import accuracy_score, classification_report\n",
    "from sklearn.feature_selection import VarianceThreshold, SelectKBest, f_classif\n",
    "from scipy.sparse import hstack, vstack\n",
    "import joblib\n",
    "from flask import Flask, request, jsonify, render_template, redirect, url_for, flash\n",
    "from flask_sqlalchemy import SQLAlchemy\n",
    "from flask_login import LoginManager, UserMixin, login_user, login_required, logout_user, current_user\n",
    "from werkzeug.security import generate_password_hash, check_password_hash\n",
    "from flask_wtf import FlaskForm\n",
    "from wtforms import StringField, PasswordField, SubmitField, FloatField, IntegerField, TextAreaField\n",
    "from wtforms.validators import DataRequired, Email, EqualTo\n",
    "from flask_mail import Mail, Message\n",
    "from itsdangerous import TimedJSONWebSignatureSerializer as Serializer\n",
    "import os\n",
    "import random\n",
    "import logging"
   ]
  },
  {
   "cell_type": "code",
   "execution_count": 6,
   "metadata": {},
   "outputs": [],
   "source": [
    "# Set up logging\n",
    "logging.basicConfig(level=logging.INFO, format='%(asctime)s - %(levelname)s - %(message)s')\n"
   ]
  },
  {
   "cell_type": "code",
   "execution_count": 7,
   "metadata": {},
   "outputs": [],
   "source": [
    "# Flask application setup\n",
    "app = Flask(__name__)\n",
    "app.config['SECRET_KEY'] = os.urandom(24)\n",
    "app.config['SQLALCHEMY_DATABASE_URI'] = 'sqlite:///site.db'\n",
    "app.config['SQLALCHEMY_TRACK_MODIFICATIONS'] = False\n",
    "app.config['MAIL_SERVER'] = 'smtp.googlemail.com'\n",
    "app.config['MAIL_PORT'] = 587\n",
    "app.config['MAIL_USE_TLS'] = True\n",
    "app.config['MAIL_USERNAME'] = 'your-email@gmail.com'  # Replace with your email\n",
    "app.config['MAIL_PASSWORD'] = 'your-password'  # Replace with your email password\n",
    "\n",
    "db = SQLAlchemy(app)\n",
    "login_manager = LoginManager(app)\n",
    "login_manager.login_view = 'login'\n",
    "mail = Mail(app)"
   ]
  },
  {
   "cell_type": "code",
   "execution_count": 8,
   "metadata": {},
   "outputs": [],
   "source": [
    "# Database Models\n",
    "class User(UserMixin, db.Model):\n",
    "    id = db.Column(db.Integer, primary_key=True)\n",
    "    email = db.Column(db.String(120), unique=True, nullable=False)\n",
    "    password_hash = db.Column(db.String(128))\n",
    "    user_type = db.Column(db.String(10), nullable=False)\n",
    "    is_verified = db.Column(db.Boolean, default=False)\n",
    "\n",
    "    def get_reset_token(self, expires_sec=1800):\n",
    "        s = Serializer(app.config['SECRET_KEY'], expires_sec)\n",
    "        return s.dumps({'user_id': self.id}).decode('utf-8')\n",
    "\n",
    "    @staticmethod\n",
    "    def verify_reset_token(token):\n",
    "        s = Serializer(app.config['SECRET_KEY'])\n",
    "        try:\n",
    "            user_id = s.loads(token)['user_id']\n",
    "        except:\n",
    "            return None\n",
    "        return User.query.get(user_id)\n",
    "\n",
    "class StartupProfile(db.Model):\n",
    "    id = db.Column(db.Integer, primary_key=True)\n",
    "    user_id = db.Column(db.Integer, db.ForeignKey('user.id'), nullable=False)\n",
    "    company_name = db.Column(db.String(100), nullable=False)\n",
    "    business_type = db.Column(db.String(100), nullable=False)\n",
    "    funding_stage = db.Column(db.String(20), nullable=False)\n",
    "    funding_needed = db.Column(db.Float, nullable=False)\n",
    "    pitch_summary = db.Column(db.Text, nullable=False)\n",
    "    team_size = db.Column(db.Integer, nullable=False)\n",
    "\n",
    "class InvestorProfile(db.Model):\n",
    "    id = db.Column(db.Integer, primary_key=True)\n",
    "    user_id = db.Column(db.Integer, db.ForeignKey('user.id'), nullable=False)\n",
    "    full_name = db.Column(db.String(100), nullable=False)\n",
    "    investment_interests = db.Column(db.String(200), nullable=False)\n",
    "    investment_budget = db.Column(db.String(20), nullable=False)\n",
    "    bio = db.Column(db.Text, nullable=False)"
   ]
  },
  {
   "cell_type": "code",
   "execution_count": 9,
   "metadata": {},
   "outputs": [],
   "source": [
    "# Forms\n",
    "class LoginForm(FlaskForm):\n",
    "    email = StringField('Email', validators=[DataRequired(), Email()])\n",
    "    password = PasswordField('Password', validators=[DataRequired()])\n",
    "    submit = SubmitField('Login')\n",
    "\n",
    "class RegistrationForm(FlaskForm):\n",
    "    email = StringField('Email', validators=[DataRequired(), Email()])\n",
    "    password = PasswordField('Password', validators=[DataRequired()])\n",
    "    confirm_password = PasswordField('Confirm Password', validators=[DataRequired(), EqualTo('password')])\n",
    "    user_type = StringField('User Type', validators=[DataRequired()])\n",
    "    submit = SubmitField('Register')\n",
    "\n",
    "class RequestResetForm(FlaskForm):\n",
    "    email = StringField('Email', validators=[DataRequired(), Email()])\n",
    "    submit = SubmitField('Request Password Reset')\n",
    "\n",
    "class ResetPasswordForm(FlaskForm):\n",
    "    password = PasswordField('New Password', validators=[DataRequired()])\n",
    "    confirm_password = PasswordField('Confirm New Password', validators=[DataRequired(), EqualTo('password')])\n",
    "    submit = SubmitField('Reset Password')\n",
    "\n",
    "class StartupProfileForm(FlaskForm):\n",
    "    company_name = StringField('Company Name', validators=[DataRequired()])\n",
    "    business_type = StringField('Business Type', validators=[DataRequired()])\n",
    "    funding_stage = StringField('Funding Stage', validators=[DataRequired()])\n",
    "    funding_needed = FloatField('Funding Needed', validators=[DataRequired()])\n",
    "    pitch_summary = TextAreaField('Pitch Summary', validators=[DataRequired()])\n",
    "    team_size = IntegerField('Team Size', validators=[DataRequired()])\n",
    "    submit = SubmitField('Submit')\n",
    "\n",
    "class InvestorProfileForm(FlaskForm):\n",
    "    full_name = StringField('Full Name', validators=[DataRequired()])\n",
    "    investment_interests = StringField('Investment Interests', validators=[DataRequired()])\n",
    "    investment_budget = StringField('Investment Budget', validators=[DataRequired()])\n",
    "    bio = TextAreaField('Bio', validators=[DataRequired()])\n",
    "    submit = SubmitField('Submit')"
   ]
  },
  {
   "cell_type": "code",
   "execution_count": 10,
   "metadata": {},
   "outputs": [],
   "source": [
    "@login_manager.user_loader\n",
    "def load_user(user_id):\n",
    "    return User.query.get(int(user_id))\n",
    "\n",
    "def send_email(to, subject, template):\n",
    "    msg = Message(\n",
    "        subject,\n",
    "        recipients=[to],\n",
    "        html=template,\n",
    "        sender=app.config['MAIL_USERNAME']\n",
    "    )\n",
    "    mail.send(msg)\n",
    "\n",
    "# Function to load CSV files\n",
    "def load_csv(file_path, encoding='utf-8', separator=','):\n",
    "    if not os.path.exists(file_path):\n",
    "        logging.error(f\"File not found: {file_path}\")\n",
    "        return None\n",
    "\n",
    "    try:\n",
    "        df = pd.read_csv(file_path, encoding=encoding, sep=separator, on_bad_lines='skip')\n",
    "        logging.info(f\"File loaded successfully: {file_path}\")\n",
    "        logging.info(f\"Columns: {df.columns.tolist()}\")\n",
    "        logging.info(f\"Number of rows: {len(df)}\")\n",
    "        return df\n",
    "    except Exception as e:\n",
    "        logging.error(f\"Error loading file {file_path}: {e}\")\n",
    "        return None\n"
   ]
  },
  {
   "cell_type": "code",
   "execution_count": 11,
   "metadata": {},
   "outputs": [],
   "source": [
    "# Extract relevant features\n",
    "def extract_combined_features(df, feature_columns, new_column_name='combined_features'):\n",
    "    existing_columns = [col for col in feature_columns if col in df.columns]\n",
    "    if not existing_columns:\n",
    "        logging.warning(f\"None of the specified feature columns exist in the dataframe for {new_column_name}\")\n",
    "        return\n",
    "\n",
    "    df[new_column_name] = df[existing_columns].astype(str).agg(' '.join, axis=1)\n",
    "    logging.info(f\"Extracted combined features for {new_column_name}. Sample data:\")\n",
    "    logging.info(df[new_column_name].head())\n",
    "    logging.info(f\"Number of non-empty entries: {df[new_column_name].str.strip().ne('').sum()}\")\n"
   ]
  },
  {
   "cell_type": "code",
   "execution_count": 12,
   "metadata": {},
   "outputs": [],
   "source": [
    "\n",
    "# Check if combined features are not empty\n",
    "def check_combined_features(df, name):\n",
    "    if df['combined_features'].str.strip().eq('').all():\n",
    "        logging.error(f\"{name} 'combined_features' column is empty.\")\n",
    "        return False\n",
    "    return True"
   ]
  },
  {
   "cell_type": "code",
   "execution_count": 13,
   "metadata": {},
   "outputs": [],
   "source": [
    "# Function to handle missing values\n",
    "def handle_missing_values(df):\n",
    "    numeric_columns = df.select_dtypes(include=[np.number]).columns\n",
    "    df[numeric_columns] = df[numeric_columns].fillna(df[numeric_columns].mean())\n",
    "    non_numeric_columns = df.select_dtypes(exclude=[np.number]).columns\n",
    "    df[non_numeric_columns] = df[non_numeric_columns].fillna('')\n",
    "    return df"
   ]
  },
  {
   "cell_type": "code",
   "execution_count": 14,
   "metadata": {},
   "outputs": [],
   "source": [
    "# Function to create and shuffle samples\n",
    "def create_samples(investor_tfidf, research_tfidf):\n",
    "    num_investors = investor_tfidf.shape[0]\n",
    "    num_projects = research_tfidf.shape[0]\n",
    "    positive_samples = []\n",
    "    negative_samples = []\n",
    "\n",
    "    for i in range(num_investors):\n",
    "        for j in range(num_projects):\n",
    "            combined_vector = hstack([investor_tfidf[i], research_tfidf[j]])\n",
    "            positive_samples.append((combined_vector, 1))\n",
    "            random_project = np.random.randint(0, num_projects)\n",
    "            combined_vector_neg = hstack([investor_tfidf[i], research_tfidf[random_project]])\n",
    "            negative_samples.append((combined_vector_neg, 0))\n",
    "\n",
    "    logging.info(f\"Number of positive samples: {len(positive_samples)}\")\n",
    "    logging.info(f\"Number of negative samples: {len(negative_samples)}\")\n",
    "\n",
    "    samples = positive_samples + negative_samples\n",
    "    random.shuffle(samples)\n",
    "    return samples\n"
   ]
  },
  {
   "cell_type": "code",
   "execution_count": 15,
   "metadata": {},
   "outputs": [],
   "source": [
    "# Train and evaluate models\n",
    "def train_and_evaluate_model(model, X_train, X_test, y_train, y_test, model_name):\n",
    "    param_grid = {\n",
    "        'n_estimators': [50, 100, 200],\n",
    "        'max_depth': [3, 5, 7],\n",
    "        'min_samples_split': [2, 5, 10],\n",
    "        'min_samples_leaf': [1, 2, 4]\n",
    "    }\n",
    "    grid_search = GridSearchCV(model, param_grid, cv=5, scoring='accuracy', n_jobs=-1)\n",
    "    grid_search.fit(X_train, y_train)\n",
    "\n",
    "    cv_scores = cross_val_score(grid_search.best_estimator_, X_train, y_train, cv=5)\n",
    "    logging.info(f\"{model_name} Cross-validation scores: {cv_scores}\")\n",
    "    logging.info(f\"{model_name} Mean CV score: {cv_scores.mean()}\")\n",
    "\n",
    "    y_pred = grid_search.predict(X_test)\n",
    "    logging.info(f\"{model_name} Accuracy: {accuracy_score(y_test, y_pred)}\")\n",
    "    logging.info(f\"{model_name} Classification Report:\\n{classification_report(y_test, y_pred)}\")\n",
    "\n",
    "    return grid_search"
   ]
  },
  {
   "cell_type": "code",
   "execution_count": 16,
   "metadata": {},
   "outputs": [],
   "source": [
    "# Main data processing and model training function\n",
    "def process_data_and_train_model():\n",
    "    entrepreneur_profiles = load_csv('togetherNow/Entrepreneur profiles.csv', separator=';')\n",
    "    research_project_data = load_csv('togetherNow/Research project data (1).csv', separator=';')\n",
    "    investor_profiles = load_csv('togetherNow/Invester_alumni profiles.csv')\n",
    "\n",
    "    if entrepreneur_profiles is None or research_project_data is None or investor_profiles is None:\n",
    "        logging.error(\"One or more required datasets failed to load. Exiting.\")\n",
    "        return None, None, None\n",
    "\n",
    "    entrepreneur_profiles = handle_missing_values(entrepreneur_profiles)\n",
    "    research_project_data = handle_missing_values(research_project_data)\n",
    "    investor_profiles = handle_missing_values(investor_profiles)\n",
    "\n",
    "    entrepreneur_feature_columns = ['Fields of knowledge', 'Which topics and industries are you interested in?', 'Impact areas of interest?']\n",
    "    research_feature_columns = ['Industry', 'Overview of innovation', 'Technology benefits']\n",
    "    investor_feature_columns = ['Fields of expertise', 'Type of support offering', 'Impact areas of interest']\n",
    "\n",
    "    extract_combined_features(entrepreneur_profiles, entrepreneur_feature_columns)\n",
    "    extract_combined_features(research_project_data, research_feature_columns)\n",
    "    extract_combined_features(investor_profiles, investor_feature_columns)\n",
    "\n",
    "    if not all(check_combined_features(df, name) for df, name in [\n",
    "        (entrepreneur_profiles, \"Entrepreneur profiles\"),\n",
    "        (research_project_data, \"Research project data\"),\n",
    "        (investor_profiles, \"Investor profiles\")\n",
    "    ]):\n",
    "        logging.error(\"Exiting due to empty combined features.\")\n",
    "        return None, None, None\n",
    "\n",
    "    vectorizer = TfidfVectorizer(max_features=1000)\n",
    "    entrepreneur_tfidf = vectorizer.fit_transform(entrepreneur_profiles['combined_features'])\n",
    "    research_tfidf = vectorizer.transform(research_project_data['combined_features'])\n",
    "    investor_tfidf = vectorizer.transform(investor_profiles['combined_features'])\n",
    "\n",
    "    samples = create_samples(investor_tfidf, research_tfidf)\n",
    "    max_samples = 10000\n",
    "    if len(samples) > max_samples:\n",
    "        samples = random.sample(samples, max_samples)\n",
    "\n",
    "    X = vstack([x[0] for x in samples])\n",
    "    y = np.array([x[1] for x in samples])\n",
    "\n",
    "    logging.info(f\"Number of samples: {len(y)}\")\n",
    "    logging.info(f\"Shape of X before feature selection: {X.shape}\")\n",
    "\n",
    "    selector = VarianceThreshold()\n",
    "    X_var = selector.fit_transform(X.toarray())\n",
    "    logging.info(f\"Shape of X after removing constant features: {X_var.shape}\")\n",
    "\n",
    "    k_best = min(500, X_var.shape[1])\n",
    "    feature_selector = SelectKBest(f_classif, k=k_best)\n",
    "    X_new = feature_selector.fit_transform(X_var, y)\n",
    "    logging.info(f\"Shape of X after SelectKBest: {X_new.shape}\")\n",
    "\n",
    "    X_train, X_test, y_train, y_test = train_test_split(X_new, y, test_size=0.2, random_state=42)\n",
    "\n",
    "    gb_model = train_and_evaluate_model(GradientBoostingClassifier(), X_train, X_test, y_train, y_test, \"Gradient Boosting\")\n",
    "    rf_model = train_and_evaluate_model(RandomForestClassifier(), X_train, X_test, y_train, y_test, \"Random Forest\")\n",
    "\n",
    "    best_model = gb_model if gb_model.best_score_ > rf_model.best_score_ else rf_model\n",
    "    logging.info(f\"Best model: {type(best_model.best_estimator_).__name__}\")\n",
    "\n",
    "    return best_model, vectorizer, feature_selector\n",
    "\n",
    "\n",
    "\n",
    "\n",
    "\n"
   ]
  },
  {
   "cell_type": "code",
   "execution_count": 17,
   "metadata": {},
   "outputs": [],
   "source": [
    "def initialize_database():\n",
    "    db.create_all()"
   ]
  },
  {
   "cell_type": "code",
   "execution_count": 18,
   "metadata": {},
   "outputs": [
    {
     "name": "stderr",
     "output_type": "stream",
     "text": [
      "2024-08-17 10:33:51,225 - INFO - File loaded successfully: togetherNow/Entrepreneur profiles.csv\n",
      "2024-08-17 10:33:51,226 - INFO - Columns: ['First Name', 'Last Name', 'Email', 'LinkedIn', 'University field of study', 'University attended', 'Employment industry', 'Employment role in above mentioned industries', 'Are you technical?', 'Gender', 'Age', 'Do you have a cofounder?', 'When do you want to start working on a startup full-time? (months)', 'Fields of knowledge', 'Level of expertise in fields mentioned above on a 6 - 10 scale', 'Which areas of a startup are you willing to take responsibility for?', 'Which topics and industries are you interested in?', 'Impact areas of interest?', 'Unnamed: 18', 'Unnamed: 19', 'Unnamed: 20', 'Unnamed: 21', 'Unnamed: 22', 'Unnamed: 23', 'Unnamed: 24', 'Unnamed: 25', 'Unnamed: 26', 'Unnamed: 27', 'Unnamed: 28', 'Unnamed: 29', 'Unnamed: 30', 'Unnamed: 31']\n",
      "2024-08-17 10:33:51,227 - INFO - Number of rows: 999\n",
      "2024-08-17 10:33:51,238 - INFO - File loaded successfully: togetherNow/Research project data (1).csv\n",
      "2024-08-17 10:33:51,239 - INFO - Columns: ['University', 'Name', 'Brief overview', 'Industry', 'Overview of innovation', 'Technology benefits', 'Technology applications', 'Technology readiness level (TRL)']\n",
      "2024-08-17 10:33:51,239 - INFO - Number of rows: 999\n",
      "2024-08-17 10:33:51,243 - INFO - File loaded successfully: togetherNow/Invester_alumni profiles.csv\n",
      "2024-08-17 10:33:51,244 - INFO - Columns: ['Name', 'Surname', 'Gender', 'Age', 'Email', 'Linkedin', 'University attended', 'Are you technical?', 'Net worth', 'Source of wealth', 'Fields of expertise', 'Type of support offering', 'Impact areas of interest']\n",
      "2024-08-17 10:33:51,246 - INFO - Number of rows: 50\n",
      "2024-08-17 10:33:51,281 - INFO - Extracted combined features for combined_features. Sample data:\n",
      "2024-08-17 10:33:51,283 - INFO - 0    Logistics Blockchain, Marketplace, B2B / Enter...\n",
      "1    Statistics, Biochemistry Artificial Intelligen...\n",
      "2         Insurance Artificial Intelligence Healthcare\n",
      "3    Insurance Climate / Sustainability, B2B / Ente...\n",
      "4    Logistics B2B / Enterprise Healthcare, Communi...\n",
      "Name: combined_features, dtype: object\n",
      "2024-08-17 10:33:51,285 - INFO - Number of non-empty entries: 100\n",
      "2024-08-17 10:33:51,298 - INFO - Extracted combined features for combined_features. Sample data:\n",
      "2024-08-17 10:33:51,300 - INFO - 0    Education, IT ImmerseCell is a virtual reality...\n",
      "1    Agriculture Livestock Management Database Syst...\n",
      "2    Healthcare, IT SUrgiTrack is an innovative web...\n",
      "3    Food technology The technology relates to a pr...\n",
      "4    Energy The In situ photovoltaic module perform...\n",
      "Name: combined_features, dtype: object\n",
      "2024-08-17 10:33:51,302 - INFO - Number of non-empty entries: 38\n",
      "2024-08-17 10:33:51,304 - INFO - Extracted combined features for combined_features. Sample data:\n",
      "2024-08-17 10:33:51,305 - INFO - 0    IT, Statistics, Electrical Engineering industr...\n",
      "1    Electrical Engineering technical support, indu...\n",
      "2    Statistics, Insurance investor connections, te...\n",
      "3    Electrical Engineering industry connections, f...\n",
      "4    Business funding, investor connections, indust...\n",
      "Name: combined_features, dtype: object\n",
      "2024-08-17 10:33:51,307 - INFO - Number of non-empty entries: 50\n",
      "2024-08-17 10:34:23,066 - INFO - Number of positive samples: 49950\n",
      "2024-08-17 10:34:23,067 - INFO - Number of negative samples: 49950\n",
      "2024-08-17 10:34:23,508 - INFO - Number of samples: 10000\n",
      "2024-08-17 10:34:23,509 - INFO - Shape of X before feature selection: (10000, 78)\n",
      "2024-08-17 10:34:23,538 - INFO - Shape of X after removing constant features: (10000, 50)\n",
      "2024-08-17 10:34:23,556 - INFO - Shape of X after SelectKBest: (10000, 50)\n",
      "/home/cloud7/Desktop/careHack/.venv/lib/python3.12/site-packages/numpy/ma/core.py:2846: RuntimeWarning: invalid value encountered in cast\n",
      "  _data = np.array(data, dtype=dtype, copy=copy,\n",
      "2024-08-17 10:42:26,005 - INFO - Gradient Boosting Cross-validation scores: [0.500625 0.51     0.50875  0.50125  0.52375 ]\n",
      "2024-08-17 10:42:26,006 - INFO - Gradient Boosting Mean CV score: 0.508875\n",
      "2024-08-17 10:42:26,011 - INFO - Gradient Boosting Accuracy: 0.5035\n",
      "2024-08-17 10:42:26,018 - INFO - Gradient Boosting Classification Report:\n",
      "              precision    recall  f1-score   support\n",
      "\n",
      "           0       0.49      0.42      0.45       971\n",
      "           1       0.52      0.58      0.55      1029\n",
      "\n",
      "    accuracy                           0.50      2000\n",
      "   macro avg       0.50      0.50      0.50      2000\n",
      "weighted avg       0.50      0.50      0.50      2000\n",
      "\n",
      "2024-08-17 10:43:45,296 - INFO - Random Forest Cross-validation scores: [0.5025   0.508125 0.493125 0.509375 0.525625]\n",
      "2024-08-17 10:43:45,297 - INFO - Random Forest Mean CV score: 0.50775\n",
      "2024-08-17 10:43:45,308 - INFO - Random Forest Accuracy: 0.5075\n",
      "2024-08-17 10:43:45,317 - INFO - Random Forest Classification Report:\n",
      "              precision    recall  f1-score   support\n",
      "\n",
      "           0       0.49      0.35      0.41       971\n",
      "           1       0.52      0.66      0.58      1029\n",
      "\n",
      "    accuracy                           0.51      2000\n",
      "   macro avg       0.50      0.50      0.49      2000\n",
      "weighted avg       0.50      0.51      0.50      2000\n",
      "\n",
      "2024-08-17 10:43:45,317 - INFO - Best model: RandomForestClassifier\n"
     ]
    }
   ],
   "source": [
    "model, vectorizer, feature_selector = process_data_and_train_model()"
   ]
  },
  {
   "cell_type": "code",
   "execution_count": 19,
   "metadata": {},
   "outputs": [],
   "source": [
    "if model is None or vectorizer is None or feature_selector is None:\n",
    "    logging.error(\"Failed to load model, vectorizer, or feature selector. Exiting.\")\n",
    "    exit()"
   ]
  },
  {
   "cell_type": "code",
   "execution_count": 20,
   "metadata": {},
   "outputs": [
    {
     "data": {
      "text/plain": [
       "['feature_selector.pkl']"
      ]
     },
     "execution_count": 20,
     "metadata": {},
     "output_type": "execute_result"
    }
   ],
   "source": [
    "joblib.dump(model, 'investor_matching_model.pkl')\n",
    "joblib.dump(vectorizer, 'tfidf_vectorizer.pkl')\n",
    "joblib.dump(feature_selector, 'feature_selector.pkl')"
   ]
  },
  {
   "cell_type": "code",
   "execution_count": 21,
   "metadata": {},
   "outputs": [],
   "source": [
    "# Routes\n",
    "@app.route('/')\n",
    "def home():\n",
    "    return render_template('index.html')"
   ]
  },
  {
   "cell_type": "code",
   "execution_count": 22,
   "metadata": {},
   "outputs": [],
   "source": [
    "@app.route('/about')\n",
    "def about():\n",
    "    return render_template('about.html')"
   ]
  },
  {
   "cell_type": "code",
   "execution_count": 23,
   "metadata": {},
   "outputs": [],
   "source": [
    "@app.route('/login', methods=['GET', 'POST'])\n",
    "def login():\n",
    "    form = LoginForm()\n",
    "    if form.validate_on_submit():\n",
    "        user = User.query.filter_by(email=form.email.data).first()\n",
    "        if user and check_password_hash(user.password_hash, form.password.data):\n",
    "            if user.is_verified:\n",
    "                login_user(user)\n",
    "                if user.user_type == 'investor':\n",
    "                    return redirect(url_for('investor_dashboard'))\n",
    "                else:\n",
    "                    return redirect(url_for('startup_dashboard'))\n",
    "            else:\n",
    "                flash('Please verify your email before logging in.', 'warning')\n",
    "        else:\n",
    "            flash('Invalid email or password', 'danger')\n",
    "    return render_template('login.html', form=form)\n"
   ]
  },
  {
   "cell_type": "code",
   "execution_count": 24,
   "metadata": {},
   "outputs": [],
   "source": [
    "@app.route('/register', methods=['GET', 'POST'])\n",
    "def register():\n",
    "    form = RegistrationForm()\n",
    "    if form.validate_on_submit():\n",
    "        hashed_password = generate_password_hash(form.password.data)\n",
    "        user = User(email=form.email.data, password_hash=hashed_password, user_type=form.user_type.data)\n",
    "        db.session.add(user)\n",
    "        db.session.commit()\n",
    "        \n",
    "        token = user.get_reset_token()\n",
    "        verify_url = url_for('verify_email', token=token, _external=True)\n",
    "        html = render_template('verify_email.html', verify_url=verify_url)\n",
    "        subject = \"Verify Your Email\"\n",
    "        send_email(user.email, subject, html)\n",
    "        \n",
    "        flash('A verification email has been sent. Please check your inbox.', 'info')\n",
    "        return redirect(url_for('login'))\n",
    "    return render_template('login.html', form=form)"
   ]
  },
  {
   "cell_type": "code",
   "execution_count": 25,
   "metadata": {},
   "outputs": [],
   "source": [
    "@app.route('/verify_email/<token>')\n",
    "def verify_email(token):\n",
    "    user = User.verify_reset_token(token)\n",
    "    if user is None:\n",
    "        flash('That is an invalid or expired token', 'warning')\n",
    "        return redirect(url_for('login'))\n",
    "    user.is_verified = True\n",
    "    db.session.commit()\n",
    "    flash('Your email has been verified! You can now log in.', 'success')\n",
    "    return redirect(url_for('login'))"
   ]
  },
  {
   "cell_type": "code",
   "execution_count": 26,
   "metadata": {},
   "outputs": [],
   "source": [
    "@app.route('/reset_password', methods=['GET', 'POST'])\n",
    "def reset_request():\n",
    "    if current_user.is_authenticated:\n",
    "        return redirect(url_for('home'))\n",
    "    form = RequestResetForm()\n",
    "    if form.validate_on_submit():\n",
    "        user = User.query.filter_by(email=form.email.data).first()\n",
    "        if user:\n",
    "            token = user.get_reset_token()\n",
    "            reset_url = url_for('reset_token', token=token, _external=True)\n",
    "            html = render_template('reset_email.html', reset_url=reset_url)\n",
    "            subject = \"Password Reset Request\"\n",
    "            send_email(user.email, subject, html)\n",
    "        flash('An email has been sent with instructions to reset your password.', 'info')\n",
    "        return redirect(url_for('login'))\n",
    "    return render_template('reset_request.html', form=form)"
   ]
  },
  {
   "cell_type": "code",
   "execution_count": 27,
   "metadata": {},
   "outputs": [],
   "source": [
    "@app.route('/reset_password/<token>', methods=['GET', 'POST'])\n",
    "def reset_token(token):\n",
    "    if current_user.is_authenticated:\n",
    "        return redirect(url_for('home'))\n",
    "    user = User.verify_reset_token(token)\n",
    "    if user is None:\n",
    "        flash('That is an invalid or expired token', 'warning')\n",
    "        return redirect(url_for('reset_request'))\n",
    "    form = ResetPasswordForm()\n",
    "    if form.validate_on_submit():\n",
    "        hashed_password = generate_password_hash(form.password.data)\n",
    "        user.password_hash = hashed_password\n",
    "        db.session.commit()\n",
    "        flash('Your password has been updated! You are now able to log in', 'success')\n",
    "        return redirect(url_for('login'))\n",
    "    return render_template('reset_token.html', form=form)\n"
   ]
  },
  {
   "cell_type": "code",
   "execution_count": 28,
   "metadata": {},
   "outputs": [],
   "source": [
    "@app.route('/startup_profile', methods=['GET', 'POST'])\n",
    "@login_required\n",
    "def startup_profile():\n",
    "    if current_user.user_type != 'startup':\n",
    "        return redirect(url_for('home'))\n",
    "    form = StartupProfileForm()\n",
    "    if form.validate_on_submit():\n",
    "        profile = StartupProfile(\n",
    "            user_id=current_user.id,\n",
    "            company_name=form.company_name.data,\n",
    "            business_type=form.business_type.data,\n",
    "            funding_stage=form.funding_stage.data,\n",
    "            funding_needed=form.funding_needed.data,\n",
    "            pitch_summary=form.pitch_summary.data,\n",
    "            team_size=form.team_size.data\n",
    "        )\n",
    "        db.session.add(profile)\n",
    "        db.session.commit()\n",
    "        return redirect(url_for('startup_dashboard'))\n",
    "    return render_template('startupProfile.html', form=form)"
   ]
  },
  {
   "cell_type": "code",
   "execution_count": 29,
   "metadata": {},
   "outputs": [],
   "source": [
    "@app.route('/investor_profile', methods=['GET', 'POST'])\n",
    "@login_required\n",
    "def investor_profile():\n",
    "    if current_user.user_type != 'investor':\n",
    "        return redirect(url_for('home'))\n",
    "    form = InvestorProfileForm()\n",
    "    if form.validate_on_submit():\n",
    "        profile = InvestorProfile(\n",
    "            user_id=current_user.id,\n",
    "            full_name=form.full_name.data,\n",
    "            investment_interests=form.investment_interests.data,\n",
    "            investment_budget=form.investment_budget.data,\n",
    "            bio=form.bio.data\n",
    "        )\n",
    "        db.session.add(profile)\n",
    "        db.session.commit()\n",
    "        return redirect(url_for('investor_dashboard'))\n",
    "    return render_template('investorProfile.html', form=form)"
   ]
  },
  {
   "cell_type": "code",
   "execution_count": 30,
   "metadata": {},
   "outputs": [],
   "source": [
    "@app.route('/startup_dashboard')\n",
    "@login_required\n",
    "def startup_dashboard():\n",
    "    if current_user.user_type != 'startup':\n",
    "        return redirect(url_for('home'))\n",
    "    profile = StartupProfile.query.filter_by(user_id=current_user.id).first()\n",
    "    return render_template('startupDashboard.html', profile=profile)"
   ]
  },
  {
   "cell_type": "code",
   "execution_count": 31,
   "metadata": {},
   "outputs": [],
   "source": [
    "@app.route('/investor_dashboard')\n",
    "@login_required\n",
    "def investor_dashboard():\n",
    "    if current_user.user_type != 'investor':\n",
    "        return redirect(url_for('home'))\n",
    "    profile = InvestorProfile.query.filter_by(user_id=current_user.id).first()\n",
    "    return render_template('investorDashboard.html', profile=profile)"
   ]
  },
  {
   "cell_type": "code",
   "execution_count": 32,
   "metadata": {},
   "outputs": [],
   "source": [
    "@app.route('/logout')\n",
    "@login_required\n",
    "def logout():\n",
    "    logout_user()\n",
    "    return redirect(url_for('home'))"
   ]
  },
  {
   "cell_type": "code",
   "execution_count": 33,
   "metadata": {},
   "outputs": [],
   "source": [
    "@app.route('/match', methods=['POST'])\n",
    "def match():\n",
    "    data = request.json\n",
    "    investor_profile = data['investor_profile']\n",
    "    target_profiles = data['target_profiles']\n",
    "\n",
    "    investor_vector = vectorizer.transform([investor_profile])\n",
    "    target_vectors = vectorizer.transform(target_profiles)\n",
    "\n",
    "    investor_vector_selected = feature_selector.transform(investor_vector.toarray())\n",
    "    target_vectors_selected = feature_selector.transform(target_vectors.toarray())\n",
    "\n",
    "    matches = []\n",
    "    for i, target_vector in enumerate(target_vectors_selected):\n",
    "        combined_vector = np.hstack([investor_vector_selected, target_vector.reshape(1, -1)])\n",
    "        match_score = model.predict_proba(combined_vector)[0][1]\n",
    "        matches.append({'id': i, 'score': float(match_score)})\n",
    "\n",
    "    matches.sort(key=lambda x: x['score'], reverse=True)\n",
    "\n",
    "    return jsonify(matches)"
   ]
  },
  {
   "cell_type": "code",
   "execution_count": 34,
   "metadata": {},
   "outputs": [],
   "source": [
    "@app.route('/add_profile', methods=['POST'])\n",
    "def add_profile():\n",
    "    data = request.json\n",
    "    profile_type = data['profile_type']\n",
    "    profile_data = pd.DataFrame([data['profile_data']])\n",
    "\n",
    "    if profile_type == 'entrepreneur':\n",
    "        file_path = 'togetherNow/Entrepreneur profiles.csv'\n",
    "    elif profile_type == 'researcher':\n",
    "        file_path = 'togetherNow/Research project data (1).csv'\n",
    "    elif profile_type == 'investor':\n",
    "        file_path = 'togetherNow/data/Invester_alumni profiles.csv'\n",
    "    else:\n",
    "        return jsonify({'error': 'Invalid profile type'}), 400\n",
    "\n",
    "    try:\n",
    "        df = pd.read_csv(file_path, sep=';' if profile_type in ['entrepreneur', 'researcher'] else ',')\n",
    "        df = df.append(profile_data, ignore_index=True)\n",
    "        df.to_csv(file_path, index=False, sep=';' if profile_type in ['entrepreneur', 'researcher'] else ',')\n",
    "        return jsonify({'message': 'Profile added successfully'}), 200\n",
    "    except Exception as e:\n",
    "        logging.error(f\"Failed to add profile: {str(e)}\")\n",
    "        return jsonify({'error': f'Failed to add profile: {str(e)}'}), 500"
   ]
  },
  {
   "cell_type": "code",
   "execution_count": 35,
   "metadata": {},
   "outputs": [
    {
     "ename": "RuntimeError",
     "evalue": "Working outside of application context.\n\nThis typically means that you attempted to use functionality that needed\nthe current application. To solve this, set up an application context\nwith app.app_context(). See the documentation for more information.",
     "output_type": "error",
     "traceback": [
      "\u001b[0;31m---------------------------------------------------------------------------\u001b[0m",
      "\u001b[0;31mRuntimeError\u001b[0m                              Traceback (most recent call last)",
      "Cell \u001b[0;32mIn[35], line 2\u001b[0m\n\u001b[1;32m      1\u001b[0m \u001b[38;5;28;01mif\u001b[39;00m \u001b[38;5;18m__name__\u001b[39m \u001b[38;5;241m==\u001b[39m \u001b[38;5;124m'\u001b[39m\u001b[38;5;124m__main__\u001b[39m\u001b[38;5;124m'\u001b[39m:\n\u001b[0;32m----> 2\u001b[0m     \u001b[43minitialize_database\u001b[49m\u001b[43m(\u001b[49m\u001b[43m)\u001b[49m\n\u001b[1;32m      3\u001b[0m     app\u001b[38;5;241m.\u001b[39mrun(debug\u001b[38;5;241m=\u001b[39m\u001b[38;5;28;01mTrue\u001b[39;00m)\n",
      "Cell \u001b[0;32mIn[17], line 2\u001b[0m, in \u001b[0;36minitialize_database\u001b[0;34m()\u001b[0m\n\u001b[1;32m      1\u001b[0m \u001b[38;5;28;01mdef\u001b[39;00m \u001b[38;5;21minitialize_database\u001b[39m():\n\u001b[0;32m----> 2\u001b[0m     \u001b[43mdb\u001b[49m\u001b[38;5;241;43m.\u001b[39;49m\u001b[43mcreate_all\u001b[49m\u001b[43m(\u001b[49m\u001b[43m)\u001b[49m\n",
      "File \u001b[0;32m~/Desktop/careHack/.venv/lib/python3.12/site-packages/flask_sqlalchemy/extension.py:900\u001b[0m, in \u001b[0;36mSQLAlchemy.create_all\u001b[0;34m(self, bind_key)\u001b[0m\n\u001b[1;32m    883\u001b[0m \u001b[38;5;28;01mdef\u001b[39;00m \u001b[38;5;21mcreate_all\u001b[39m(\u001b[38;5;28mself\u001b[39m, bind_key: \u001b[38;5;28mstr\u001b[39m \u001b[38;5;241m|\u001b[39m \u001b[38;5;28;01mNone\u001b[39;00m \u001b[38;5;241m|\u001b[39m \u001b[38;5;28mlist\u001b[39m[\u001b[38;5;28mstr\u001b[39m \u001b[38;5;241m|\u001b[39m \u001b[38;5;28;01mNone\u001b[39;00m] \u001b[38;5;241m=\u001b[39m \u001b[38;5;124m\"\u001b[39m\u001b[38;5;124m__all__\u001b[39m\u001b[38;5;124m\"\u001b[39m) \u001b[38;5;241m-\u001b[39m\u001b[38;5;241m>\u001b[39m \u001b[38;5;28;01mNone\u001b[39;00m:\n\u001b[1;32m    884\u001b[0m \u001b[38;5;250m    \u001b[39m\u001b[38;5;124;03m\"\"\"Create tables that do not exist in the database by calling\u001b[39;00m\n\u001b[1;32m    885\u001b[0m \u001b[38;5;124;03m    ``metadata.create_all()`` for all or some bind keys. This does not\u001b[39;00m\n\u001b[1;32m    886\u001b[0m \u001b[38;5;124;03m    update existing tables, use a migration library for that.\u001b[39;00m\n\u001b[0;32m   (...)\u001b[0m\n\u001b[1;32m    898\u001b[0m \u001b[38;5;124;03m        Added the ``bind`` and ``app`` parameters.\u001b[39;00m\n\u001b[1;32m    899\u001b[0m \u001b[38;5;124;03m    \"\"\"\u001b[39;00m\n\u001b[0;32m--> 900\u001b[0m     \u001b[38;5;28;43mself\u001b[39;49m\u001b[38;5;241;43m.\u001b[39;49m\u001b[43m_call_for_binds\u001b[49m\u001b[43m(\u001b[49m\u001b[43mbind_key\u001b[49m\u001b[43m,\u001b[49m\u001b[43m \u001b[49m\u001b[38;5;124;43m\"\u001b[39;49m\u001b[38;5;124;43mcreate_all\u001b[39;49m\u001b[38;5;124;43m\"\u001b[39;49m\u001b[43m)\u001b[49m\n",
      "File \u001b[0;32m~/Desktop/careHack/.venv/lib/python3.12/site-packages/flask_sqlalchemy/extension.py:871\u001b[0m, in \u001b[0;36mSQLAlchemy._call_for_binds\u001b[0;34m(self, bind_key, op_name)\u001b[0m\n\u001b[1;32m    869\u001b[0m \u001b[38;5;28;01mfor\u001b[39;00m key \u001b[38;5;129;01min\u001b[39;00m keys:\n\u001b[1;32m    870\u001b[0m     \u001b[38;5;28;01mtry\u001b[39;00m:\n\u001b[0;32m--> 871\u001b[0m         engine \u001b[38;5;241m=\u001b[39m \u001b[38;5;28;43mself\u001b[39;49m\u001b[38;5;241;43m.\u001b[39;49m\u001b[43mengines\u001b[49m[key]\n\u001b[1;32m    872\u001b[0m     \u001b[38;5;28;01mexcept\u001b[39;00m \u001b[38;5;167;01mKeyError\u001b[39;00m:\n\u001b[1;32m    873\u001b[0m         message \u001b[38;5;241m=\u001b[39m \u001b[38;5;124mf\u001b[39m\u001b[38;5;124m\"\u001b[39m\u001b[38;5;124mBind key \u001b[39m\u001b[38;5;124m'\u001b[39m\u001b[38;5;132;01m{\u001b[39;00mkey\u001b[38;5;132;01m}\u001b[39;00m\u001b[38;5;124m'\u001b[39m\u001b[38;5;124m is not in \u001b[39m\u001b[38;5;124m'\u001b[39m\u001b[38;5;124mSQLALCHEMY_BINDS\u001b[39m\u001b[38;5;124m'\u001b[39m\u001b[38;5;124m config.\u001b[39m\u001b[38;5;124m\"\u001b[39m\n",
      "File \u001b[0;32m~/Desktop/careHack/.venv/lib/python3.12/site-packages/flask_sqlalchemy/extension.py:687\u001b[0m, in \u001b[0;36mSQLAlchemy.engines\u001b[0;34m(self)\u001b[0m\n\u001b[1;32m    674\u001b[0m \u001b[38;5;129m@property\u001b[39m\n\u001b[1;32m    675\u001b[0m \u001b[38;5;28;01mdef\u001b[39;00m \u001b[38;5;21mengines\u001b[39m(\u001b[38;5;28mself\u001b[39m) \u001b[38;5;241m-\u001b[39m\u001b[38;5;241m>\u001b[39m t\u001b[38;5;241m.\u001b[39mMapping[\u001b[38;5;28mstr\u001b[39m \u001b[38;5;241m|\u001b[39m \u001b[38;5;28;01mNone\u001b[39;00m, sa\u001b[38;5;241m.\u001b[39mengine\u001b[38;5;241m.\u001b[39mEngine]:\n\u001b[1;32m    676\u001b[0m \u001b[38;5;250m    \u001b[39m\u001b[38;5;124;03m\"\"\"Map of bind keys to :class:`sqlalchemy.engine.Engine` instances for current\u001b[39;00m\n\u001b[1;32m    677\u001b[0m \u001b[38;5;124;03m    application. The ``None`` key refers to the default engine, and is available as\u001b[39;00m\n\u001b[1;32m    678\u001b[0m \u001b[38;5;124;03m    :attr:`engine`.\u001b[39;00m\n\u001b[0;32m   (...)\u001b[0m\n\u001b[1;32m    685\u001b[0m \u001b[38;5;124;03m    .. versionadded:: 3.0\u001b[39;00m\n\u001b[1;32m    686\u001b[0m \u001b[38;5;124;03m    \"\"\"\u001b[39;00m\n\u001b[0;32m--> 687\u001b[0m     app \u001b[38;5;241m=\u001b[39m \u001b[43mcurrent_app\u001b[49m\u001b[38;5;241;43m.\u001b[39;49m\u001b[43m_get_current_object\u001b[49m\u001b[43m(\u001b[49m\u001b[43m)\u001b[49m  \u001b[38;5;66;03m# type: ignore[attr-defined]\u001b[39;00m\n\u001b[1;32m    689\u001b[0m     \u001b[38;5;28;01mif\u001b[39;00m app \u001b[38;5;129;01mnot\u001b[39;00m \u001b[38;5;129;01min\u001b[39;00m \u001b[38;5;28mself\u001b[39m\u001b[38;5;241m.\u001b[39m_app_engines:\n\u001b[1;32m    690\u001b[0m         \u001b[38;5;28;01mraise\u001b[39;00m \u001b[38;5;167;01mRuntimeError\u001b[39;00m(\n\u001b[1;32m    691\u001b[0m             \u001b[38;5;124m\"\u001b[39m\u001b[38;5;124mThe current Flask app is not registered with this \u001b[39m\u001b[38;5;124m'\u001b[39m\u001b[38;5;124mSQLAlchemy\u001b[39m\u001b[38;5;124m'\u001b[39m\u001b[38;5;124m\"\u001b[39m\n\u001b[1;32m    692\u001b[0m             \u001b[38;5;124m\"\u001b[39m\u001b[38;5;124m instance. Did you forget to call \u001b[39m\u001b[38;5;124m'\u001b[39m\u001b[38;5;124minit_app\u001b[39m\u001b[38;5;124m'\u001b[39m\u001b[38;5;124m, or did you create\u001b[39m\u001b[38;5;124m\"\u001b[39m\n\u001b[1;32m    693\u001b[0m             \u001b[38;5;124m\"\u001b[39m\u001b[38;5;124m multiple \u001b[39m\u001b[38;5;124m'\u001b[39m\u001b[38;5;124mSQLAlchemy\u001b[39m\u001b[38;5;124m'\u001b[39m\u001b[38;5;124m instances?\u001b[39m\u001b[38;5;124m\"\u001b[39m\n\u001b[1;32m    694\u001b[0m         )\n",
      "File \u001b[0;32m~/Desktop/careHack/.venv/lib/python3.12/site-packages/werkzeug/local.py:519\u001b[0m, in \u001b[0;36mLocalProxy.__init__.<locals>._get_current_object\u001b[0;34m()\u001b[0m\n\u001b[1;32m    517\u001b[0m     obj \u001b[38;5;241m=\u001b[39m local\u001b[38;5;241m.\u001b[39mget()\n\u001b[1;32m    518\u001b[0m \u001b[38;5;28;01mexcept\u001b[39;00m \u001b[38;5;167;01mLookupError\u001b[39;00m:\n\u001b[0;32m--> 519\u001b[0m     \u001b[38;5;28;01mraise\u001b[39;00m \u001b[38;5;167;01mRuntimeError\u001b[39;00m(unbound_message) \u001b[38;5;28;01mfrom\u001b[39;00m \u001b[38;5;28;01mNone\u001b[39;00m\n\u001b[1;32m    521\u001b[0m \u001b[38;5;28;01mreturn\u001b[39;00m get_name(obj)\n",
      "\u001b[0;31mRuntimeError\u001b[0m: Working outside of application context.\n\nThis typically means that you attempted to use functionality that needed\nthe current application. To solve this, set up an application context\nwith app.app_context(). See the documentation for more information."
     ]
    }
   ],
   "source": [
    "if __name__ == '__main__':\n",
    "    initialize_database()\n",
    "    app.run(debug=True)"
   ]
  }
 ],
 "metadata": {
  "kernelspec": {
   "display_name": ".venv",
   "language": "python",
   "name": "python3"
  },
  "language_info": {
   "codemirror_mode": {
    "name": "ipython",
    "version": 3
   },
   "file_extension": ".py",
   "mimetype": "text/x-python",
   "name": "python",
   "nbconvert_exporter": "python",
   "pygments_lexer": "ipython3",
   "version": "3.12.4"
  }
 },
 "nbformat": 4,
 "nbformat_minor": 2
}
